{
 "cells": [
  {
   "cell_type": "code",
   "execution_count": 1,
   "metadata": {},
   "outputs": [
    {
     "name": "stderr",
     "output_type": "stream",
     "text": [
      "/home/users/azecchin/miniconda3/envs/evergraph/lib/python3.10/site-packages/awkward/operations/convert.py:1999: DeprecationWarning: distutils Version classes are deprecated. Use packaging.version instead.\n",
      "  if distutils.version.LooseVersion(\n",
      "/home/users/azecchin/miniconda3/envs/evergraph/lib/python3.10/site-packages/awkward/operations/convert.py:2001: DeprecationWarning: distutils Version classes are deprecated. Use packaging.version instead.\n",
      "  ) < distutils.version.LooseVersion(\"2.0.0\"):\n"
     ]
    }
   ],
   "source": [
    "import awkward as ak\n",
    "import glob\n",
    "files = glob.glob(\"../test_20220301/data/*.parquet\")\n",
    "file_map = {}\n",
    "file_map[\"train\"] = files[0::2]\n",
    "file_map[\"test\"] = files[1::2] \n",
    "data_array = {}\n",
    "for split in [\"train\",\"test\"]:\n",
    "    data_array[split] = ak.concatenate(\n",
    "        [ak.from_parquet(f) for f in file_map[split] ] \n",
    "    ) \n",
    "df = ak.concatenate([ak.from_parquet(f) for f in files] )"
   ]
  },
  {
   "cell_type": "code",
   "execution_count": 2,
   "metadata": {},
   "outputs": [
    {
     "data": {
      "text/plain": [
       "912385"
      ]
     },
     "execution_count": 2,
     "metadata": {},
     "output_type": "execute_result"
    }
   ],
   "source": [
    "len(df)"
   ]
  },
  {
   "cell_type": "code",
   "execution_count": 3,
   "metadata": {},
   "outputs": [
    {
     "data": {
      "text/plain": [
       "912385"
      ]
     },
     "execution_count": 3,
     "metadata": {},
     "output_type": "execute_result"
    }
   ],
   "source": [
    "len(data_array[\"train\"])+len(data_array[\"test\"])\n"
   ]
  },
  {
   "cell_type": "code",
   "execution_count": 2,
   "metadata": {},
   "outputs": [],
   "source": [
    "import pandas\n",
    "import numpy as np"
   ]
  },
  {
   "cell_type": "code",
   "execution_count": 22,
   "metadata": {},
   "outputs": [
    {
     "name": "stdout",
     "output_type": "stream",
     "text": [
      "data Array objects 500000 3\n",
      "data Array objects 500000 2\n",
      "data Array labels 500000 1\n",
      " features lenght (500000, 55) labels lenght (500000, 1)\n",
      "train signal events values    371747\n",
      "dtype: int64 background events values    128253\n",
      "dtype: int64\n",
      "data Array objects 412385 3\n",
      "data Array objects 412385 2\n",
      "data Array labels 412385 1\n",
      " features lenght (412385, 55) labels lenght (412385, 1)\n",
      "test signal events values    306562\n",
      "dtype: int64 background events values    105823\n",
      "dtype: int64\n"
     ]
    }
   ],
   "source": [
    "DUMMY_VALUE=-999\n",
    "events= {}\n",
    "for split in [\"train\", \"test\"]:\n",
    "    events[split] = {}\n",
    "    print (\"data Array objects {} {}\".format(len(data_array[split][\"objects\"]),data_array[split][\"objects\"].ndim))\n",
    "    # print (\"flatten \",len(ak.flatten(data_array[split][\"objects\"],axis=-1)),\" \" ,ak.flatten(data_array[split][\"objects\"],axis=-1).ndim )\n",
    "    data_array[split][\"flat_objects\"] = ak.nan_to_num(ak.flatten(data_array[split][\"objects\"],axis=-1), nan = DUMMY_VALUE, posinf= DUMMY_VALUE, neginf= DUMMY_VALUE)\n",
    "    \n",
    "    print (\"data Array objects {} {}\".format(len(data_array[split][\"flat_objects\"]),data_array[split][\"flat_objects\"].ndim))\n",
    "    print (\"data Array labels {} {}\".format(len(data_array[split][\"target_has_HbbHiggs\"]),data_array[split][\"target_has_HbbHiggs\"].ndim))\n",
    "    labels = ak.to_pandas(data_array[split][\"target_has_HbbHiggs\"]==1)\n",
    "    features = ak.to_numpy(data_array[split][\"flat_objects\"])\n",
    "    # np.reshape(features,(len(labels),55))\n",
    "    # print(\"Pandas series {} {}\".format(len(df),df.shape))\n",
    "    # print ( \"split {} events {} labels {} \".format(split,len(df),len(df[\"target_has_HbbHiggs\"])) )\n",
    "    events[split][\"X\"] = features\n",
    "    events[split][\"y\"] = labels\n",
    "    print (\" features lenght {} labels lenght {}\".format(events[split][\"X\"].shape,events[split][\"y\"].shape) )\n",
    "    print (\"{} signal events {} background events {}\".format(split,events[split][\"y\"].sum(), len(events[split][\"y\"]) - events[split][\"y\"].sum()))"
   ]
  },
  {
   "cell_type": "code",
   "execution_count": 15,
   "metadata": {},
   "outputs": [
    {
     "data": {
      "text/plain": [
       "<Array [[5.83, 0.828, -2.42, ... 1.81, 0, 0]] type='412385 * var * float64'>"
      ]
     },
     "execution_count": 15,
     "metadata": {},
     "output_type": "execute_result"
    }
   ],
   "source": [
    "data_array[\"test\"][\"flat_objects\"]"
   ]
  },
  {
   "cell_type": "code",
   "execution_count": 16,
   "metadata": {},
   "outputs": [
    {
     "data": {
      "text/plain": [
       "entry   subentry        \n",
       "0       0         values    5.832958\n",
       "        1         values    0.827759\n",
       "        2         values   -2.416504\n",
       "        3         values    0.000000\n",
       "        4         values    0.000000\n",
       "                              ...   \n",
       "412384  50        values    4.193891\n",
       "        51        values    0.000000\n",
       "        52        values    1.809570\n",
       "        53        values    0.000000\n",
       "        54        values    0.000000\n",
       "Length: 22681175, dtype: float64"
      ]
     },
     "execution_count": 16,
     "metadata": {},
     "output_type": "execute_result"
    }
   ],
   "source": [
    "features"
   ]
  },
  {
   "cell_type": "code",
   "execution_count": 10,
   "metadata": {},
   "outputs": [
    {
     "data": {
      "text/html": [
       "<div>\n",
       "<style scoped>\n",
       "    .dataframe tbody tr th:only-of-type {\n",
       "        vertical-align: middle;\n",
       "    }\n",
       "\n",
       "    .dataframe tbody tr th {\n",
       "        vertical-align: top;\n",
       "    }\n",
       "\n",
       "    .dataframe thead th {\n",
       "        text-align: right;\n",
       "    }\n",
       "</style>\n",
       "<table border=\"1\" class=\"dataframe\">\n",
       "  <thead>\n",
       "    <tr style=\"text-align: right;\">\n",
       "      <th></th>\n",
       "      <th></th>\n",
       "      <th>values</th>\n",
       "    </tr>\n",
       "    <tr>\n",
       "      <th>entry</th>\n",
       "      <th>subentry</th>\n",
       "      <th></th>\n",
       "    </tr>\n",
       "  </thead>\n",
       "  <tbody>\n",
       "    <tr>\n",
       "      <th rowspan=\"5\" valign=\"top\">0</th>\n",
       "      <th>0</th>\n",
       "      <td>5.832958</td>\n",
       "    </tr>\n",
       "    <tr>\n",
       "      <th>1</th>\n",
       "      <td>0.827759</td>\n",
       "    </tr>\n",
       "    <tr>\n",
       "      <th>2</th>\n",
       "      <td>-2.416504</td>\n",
       "    </tr>\n",
       "    <tr>\n",
       "      <th>3</th>\n",
       "      <td>0.000000</td>\n",
       "    </tr>\n",
       "    <tr>\n",
       "      <th>4</th>\n",
       "      <td>0.000000</td>\n",
       "    </tr>\n",
       "    <tr>\n",
       "      <th>...</th>\n",
       "      <th>...</th>\n",
       "      <td>...</td>\n",
       "    </tr>\n",
       "    <tr>\n",
       "      <th rowspan=\"5\" valign=\"top\">412384</th>\n",
       "      <th>50</th>\n",
       "      <td>4.193891</td>\n",
       "    </tr>\n",
       "    <tr>\n",
       "      <th>51</th>\n",
       "      <td>0.000000</td>\n",
       "    </tr>\n",
       "    <tr>\n",
       "      <th>52</th>\n",
       "      <td>1.809570</td>\n",
       "    </tr>\n",
       "    <tr>\n",
       "      <th>53</th>\n",
       "      <td>0.000000</td>\n",
       "    </tr>\n",
       "    <tr>\n",
       "      <th>54</th>\n",
       "      <td>0.000000</td>\n",
       "    </tr>\n",
       "  </tbody>\n",
       "</table>\n",
       "<p>22681175 rows × 1 columns</p>\n",
       "</div>"
      ],
      "text/plain": [
       "                   values\n",
       "entry  subentry          \n",
       "0      0         5.832958\n",
       "       1         0.827759\n",
       "       2        -2.416504\n",
       "       3         0.000000\n",
       "       4         0.000000\n",
       "...                   ...\n",
       "412384 50        4.193891\n",
       "       51        0.000000\n",
       "       52        1.809570\n",
       "       53        0.000000\n",
       "       54        0.000000\n",
       "\n",
       "[22681175 rows x 1 columns]"
      ]
     },
     "execution_count": 10,
     "metadata": {},
     "output_type": "execute_result"
    }
   ],
   "source": [
    "events[\"test\"][\"X\"]"
   ]
  },
  {
   "cell_type": "code",
   "execution_count": null,
   "metadata": {},
   "outputs": [],
   "source": []
  }
 ],
 "metadata": {
  "interpreter": {
   "hash": "767d51c1340bd893661ea55ea3124f6de3c7a262a8b4abca0554b478b1e2ff90"
  },
  "kernelspec": {
   "display_name": "Python 2.7.5 64-bit",
   "language": "python",
   "name": "python3"
  },
  "language_info": {
   "codemirror_mode": {
    "name": "ipython",
    "version": 3
   },
   "file_extension": ".py",
   "mimetype": "text/x-python",
   "name": "python",
   "nbconvert_exporter": "python",
   "pygments_lexer": "ipython3",
   "version": "3.10.2"
  },
  "orig_nbformat": 4
 },
 "nbformat": 4,
 "nbformat_minor": 2
}
